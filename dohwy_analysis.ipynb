{
 "metadata": {
  "language_info": {
   "codemirror_mode": {
    "name": "ipython",
    "version": 3
   },
   "file_extension": ".py",
   "mimetype": "text/x-python",
   "name": "python",
   "nbconvert_exporter": "python",
   "pygments_lexer": "ipython3",
   "version": "3.8.2"
  },
  "orig_nbformat": 4,
  "kernelspec": {
   "name": "python3",
   "display_name": "Python 3.8.2 64-bit"
  },
  "interpreter": {
   "hash": "082e9a3bcad0a290d0001e938aa60b99250c6c2ef33a923c00b70f9826caf4b7"
  }
 },
 "nbformat": 4,
 "nbformat_minor": 2,
 "cells": [
  {
   "cell_type": "code",
   "execution_count": 2,
   "metadata": {},
   "outputs": [],
   "source": [
    "import dowhy\n",
    "import pandas as pd"
   ]
  },
  {
   "cell_type": "code",
   "execution_count": 3,
   "metadata": {},
   "outputs": [],
   "source": [
    "df = pd.read_csv('data/all_types.csv')"
   ]
  },
  {
   "cell_type": "code",
   "execution_count": 4,
   "metadata": {},
   "outputs": [
    {
     "output_type": "execute_result",
     "data": {
      "text/plain": [
       "   Age Gender Race  Length of Hospital Stay (LOS)  Height_cm  Weight-kg   BMI  \\\n",
       "0   72      M    W                              3      175.3       83.5  27.2   \n",
       "1   74      F    W                              3      170.2       76.3  26.3   \n",
       "2   57      F    B                              3      152.4       97.1  41.8   \n",
       "3   64      M    W                              3      175.3       72.2  23.5   \n",
       "4   68      M    B                              8      152.4       80.3  34.6   \n",
       "\n",
       "   sPESI  PESI Class  \\\n",
       "0      0           2   \n",
       "1      0           2   \n",
       "2      0           2   \n",
       "3      0           2   \n",
       "4      1           5   \n",
       "\n",
       "   PE Severity 1=low risk; 2=intermediate; 3=massive; 4=indeterminate  ...  \\\n",
       "0                                                  1                   ...   \n",
       "1                                                  2                   ...   \n",
       "2                                                  1                   ...   \n",
       "3                                                  2                   ...   \n",
       "4                                                  2                   ...   \n",
       "\n",
       "  Platelet <70k        Etiology of Clot  adverseEvent    type  \\\n",
       "0           0.0                  trauma             0  saddle   \n",
       "1           0.0                 surgery             0  saddle   \n",
       "2           0.0                  trauma             0  saddle   \n",
       "3           0.0  immobility- car travel             0  saddle   \n",
       "4           0.0        personal history             0  saddle   \n",
       "\n",
       "   Required supplemental O2  Acute DVT (deep venous thrombosis), 3 = chronic  \\\n",
       "0                       NaN                                              NaN   \n",
       "1                       NaN                                              NaN   \n",
       "2                       NaN                                              NaN   \n",
       "3                       NaN                                              NaN   \n",
       "4                       NaN                                              NaN   \n",
       "\n",
       "   Elevated Initial Troponin  RV/LV Ratio .85 to .90  RV/LV Ratio   .91-.94  \\\n",
       "0                        NaN                     NaN                    NaN   \n",
       "1                        NaN                     NaN                    NaN   \n",
       "2                        NaN                     NaN                    NaN   \n",
       "3                        NaN                     NaN                    NaN   \n",
       "4                        NaN                     NaN                    NaN   \n",
       "\n",
       "   RV/LV Ratio .95 or greater  \n",
       "0                         NaN  \n",
       "1                         NaN  \n",
       "2                         NaN  \n",
       "3                         NaN  \n",
       "4                         NaN  \n",
       "\n",
       "[5 rows x 95 columns]"
      ],
      "text/html": "<div>\n<style scoped>\n    .dataframe tbody tr th:only-of-type {\n        vertical-align: middle;\n    }\n\n    .dataframe tbody tr th {\n        vertical-align: top;\n    }\n\n    .dataframe thead th {\n        text-align: right;\n    }\n</style>\n<table border=\"1\" class=\"dataframe\">\n  <thead>\n    <tr style=\"text-align: right;\">\n      <th></th>\n      <th>Age</th>\n      <th>Gender</th>\n      <th>Race</th>\n      <th>Length of Hospital Stay (LOS)</th>\n      <th>Height_cm</th>\n      <th>Weight-kg</th>\n      <th>BMI</th>\n      <th>sPESI</th>\n      <th>PESI Class</th>\n      <th>PE Severity 1=low risk; 2=intermediate; 3=massive; 4=indeterminate</th>\n      <th>...</th>\n      <th>Platelet &lt;70k</th>\n      <th>Etiology of Clot</th>\n      <th>adverseEvent</th>\n      <th>type</th>\n      <th>Required supplemental O2</th>\n      <th>Acute DVT (deep venous thrombosis), 3 = chronic</th>\n      <th>Elevated Initial Troponin</th>\n      <th>RV/LV Ratio .85 to .90</th>\n      <th>RV/LV Ratio   .91-.94</th>\n      <th>RV/LV Ratio .95 or greater</th>\n    </tr>\n  </thead>\n  <tbody>\n    <tr>\n      <th>0</th>\n      <td>72</td>\n      <td>M</td>\n      <td>W</td>\n      <td>3</td>\n      <td>175.3</td>\n      <td>83.5</td>\n      <td>27.2</td>\n      <td>0</td>\n      <td>2</td>\n      <td>1</td>\n      <td>...</td>\n      <td>0.0</td>\n      <td>trauma</td>\n      <td>0</td>\n      <td>saddle</td>\n      <td>NaN</td>\n      <td>NaN</td>\n      <td>NaN</td>\n      <td>NaN</td>\n      <td>NaN</td>\n      <td>NaN</td>\n    </tr>\n    <tr>\n      <th>1</th>\n      <td>74</td>\n      <td>F</td>\n      <td>W</td>\n      <td>3</td>\n      <td>170.2</td>\n      <td>76.3</td>\n      <td>26.3</td>\n      <td>0</td>\n      <td>2</td>\n      <td>2</td>\n      <td>...</td>\n      <td>0.0</td>\n      <td>surgery</td>\n      <td>0</td>\n      <td>saddle</td>\n      <td>NaN</td>\n      <td>NaN</td>\n      <td>NaN</td>\n      <td>NaN</td>\n      <td>NaN</td>\n      <td>NaN</td>\n    </tr>\n    <tr>\n      <th>2</th>\n      <td>57</td>\n      <td>F</td>\n      <td>B</td>\n      <td>3</td>\n      <td>152.4</td>\n      <td>97.1</td>\n      <td>41.8</td>\n      <td>0</td>\n      <td>2</td>\n      <td>1</td>\n      <td>...</td>\n      <td>0.0</td>\n      <td>trauma</td>\n      <td>0</td>\n      <td>saddle</td>\n      <td>NaN</td>\n      <td>NaN</td>\n      <td>NaN</td>\n      <td>NaN</td>\n      <td>NaN</td>\n      <td>NaN</td>\n    </tr>\n    <tr>\n      <th>3</th>\n      <td>64</td>\n      <td>M</td>\n      <td>W</td>\n      <td>3</td>\n      <td>175.3</td>\n      <td>72.2</td>\n      <td>23.5</td>\n      <td>0</td>\n      <td>2</td>\n      <td>2</td>\n      <td>...</td>\n      <td>0.0</td>\n      <td>immobility- car travel</td>\n      <td>0</td>\n      <td>saddle</td>\n      <td>NaN</td>\n      <td>NaN</td>\n      <td>NaN</td>\n      <td>NaN</td>\n      <td>NaN</td>\n      <td>NaN</td>\n    </tr>\n    <tr>\n      <th>4</th>\n      <td>68</td>\n      <td>M</td>\n      <td>B</td>\n      <td>8</td>\n      <td>152.4</td>\n      <td>80.3</td>\n      <td>34.6</td>\n      <td>1</td>\n      <td>5</td>\n      <td>2</td>\n      <td>...</td>\n      <td>0.0</td>\n      <td>personal history</td>\n      <td>0</td>\n      <td>saddle</td>\n      <td>NaN</td>\n      <td>NaN</td>\n      <td>NaN</td>\n      <td>NaN</td>\n      <td>NaN</td>\n      <td>NaN</td>\n    </tr>\n  </tbody>\n</table>\n<p>5 rows × 95 columns</p>\n</div>"
     },
     "metadata": {},
     "execution_count": 4
    }
   ],
   "source": [
    "df.head()"
   ]
  },
  {
   "cell_type": "code",
   "execution_count": null,
   "metadata": {},
   "outputs": [],
   "source": []
  }
 ]
}